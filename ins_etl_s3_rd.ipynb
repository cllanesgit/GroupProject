{
  "cells": [
    {
      "cell_type": "code",
      "execution_count": 1,
      "metadata": {
        "colab": {
          "base_uri": "https://localhost:8080/",
          "height": 0
        },
        "id": "QynpKOtoEpXS",
        "outputId": "622d6278-6d34-47db-c43e-0bbe0a93b4b5"
      },
      "outputs": [
        {
          "output_type": "stream",
          "name": "stdout",
          "text": [
            "Get:1 https://cloud.r-project.org/bin/linux/ubuntu bionic-cran40/ InRelease [3,626 B]\n",
            "Ign:2 https://developer.download.nvidia.com/compute/machine-learning/repos/ubuntu1804/x86_64  InRelease\n",
            "Hit:3 http://ppa.launchpad.net/c2d4u.team/c2d4u4.0+/ubuntu bionic InRelease\n",
            "Hit:4 http://archive.ubuntu.com/ubuntu bionic InRelease\n",
            "Get:5 https://developer.download.nvidia.com/compute/cuda/repos/ubuntu1804/x86_64  InRelease [1,581 B]\n",
            "Hit:6 https://developer.download.nvidia.com/compute/machine-learning/repos/ubuntu1804/x86_64  Release\n",
            "Get:7 http://security.ubuntu.com/ubuntu bionic-security InRelease [88.7 kB]\n",
            "Get:8 http://archive.ubuntu.com/ubuntu bionic-updates InRelease [88.7 kB]\n",
            "Hit:9 http://ppa.launchpad.net/cran/libgit2/ubuntu bionic InRelease\n",
            "Hit:10 http://ppa.launchpad.net/deadsnakes/ppa/ubuntu bionic InRelease\n",
            "Get:11 http://archive.ubuntu.com/ubuntu bionic-backports InRelease [83.3 kB]\n",
            "Get:12 http://ppa.launchpad.net/graphics-drivers/ppa/ubuntu bionic InRelease [21.3 kB]\n",
            "Get:13 https://developer.download.nvidia.com/compute/cuda/repos/ubuntu1804/x86_64  Packages [913 kB]\n",
            "Get:15 http://security.ubuntu.com/ubuntu bionic-security/universe amd64 Packages [1,546 kB]\n",
            "Get:16 http://archive.ubuntu.com/ubuntu bionic-updates/universe amd64 Packages [2,323 kB]\n",
            "Get:17 http://security.ubuntu.com/ubuntu bionic-security/main amd64 Packages [2,990 kB]\n",
            "Get:18 http://archive.ubuntu.com/ubuntu bionic-updates/main amd64 Packages [3,422 kB]\n",
            "Get:19 http://ppa.launchpad.net/graphics-drivers/ppa/ubuntu bionic/main amd64 Packages [48.3 kB]\n",
            "Fetched 11.5 MB in 5s (2,299 kB/s)\n",
            "Reading package lists... Done\n"
          ]
        }
      ],
      "source": [
        "import os\n",
        "# Find the latest version of spark 3.0  from http://www.apache.org/dist/spark/ and enter as the spark version\n",
        "# For example:\n",
        "# spark_version = 'spark-3.0.3'\n",
        "spark_version = 'spark-3.3.0'\n",
        "os.environ['SPARK_VERSION']=spark_version\n",
        "\n",
        "# Install Spark and Java\n",
        "!apt-get update\n",
        "!apt-get install openjdk-11-jdk-headless -qq > /dev/null\n",
        "!wget -q http://www.apache.org/dist/spark/spark-3.3.0/spark-3.3.0-bin-hadoop2.tgz\n",
        "!tar xf spark-3.3.0-bin-hadoop2.tgz\n",
        "!pip install -q findspark\n",
        "\n",
        "# Set Environment Variables\n",
        "os.environ[\"JAVA_HOME\"] = \"/usr/lib/jvm/java-11-openjdk-amd64\"\n",
        "os.environ[\"SPARK_HOME\"] = f\"/content/{spark_version}-bin-hadoop2\"\n",
        "\n",
        "# Start a SparkSession\n",
        "import findspark\n",
        "findspark.init()"
      ]
    },
    {
      "cell_type": "code",
      "execution_count": 2,
      "metadata": {
        "colab": {
          "base_uri": "https://localhost:8080/",
          "height": 0
        },
        "id": "vpHTcc3uEpXW",
        "outputId": "4e481a2b-9093-4a67-f400-ccdd5c681f4c"
      },
      "outputs": [
        {
          "output_type": "stream",
          "name": "stdout",
          "text": [
            "--2022-09-30 20:25:41--  https://jdbc.postgresql.org/download/postgresql-42.2.9.jar\n",
            "Resolving jdbc.postgresql.org (jdbc.postgresql.org)... 72.32.157.228, 2001:4800:3e1:1::228\n",
            "Connecting to jdbc.postgresql.org (jdbc.postgresql.org)|72.32.157.228|:443... connected.\n",
            "HTTP request sent, awaiting response... 200 OK\n",
            "Length: 914037 (893K) [application/java-archive]\n",
            "Saving to: ‘postgresql-42.2.9.jar’\n",
            "\n",
            "postgresql-42.2.9.j 100%[===================>] 892.61K  5.75MB/s    in 0.2s    \n",
            "\n",
            "2022-09-30 20:25:42 (5.75 MB/s) - ‘postgresql-42.2.9.jar’ saved [914037/914037]\n",
            "\n"
          ]
        }
      ],
      "source": [
        "!wget https://jdbc.postgresql.org/download/postgresql-42.2.9.jar"
      ]
    },
    {
      "cell_type": "code",
      "execution_count": 3,
      "metadata": {
        "id": "wsSY0N2KEpXX"
      },
      "outputs": [],
      "source": [
        "from pyspark.sql import SparkSession\n",
        "spark = SparkSession.builder.appName(\"CloudETL\").config(\"spark.driver.extraClassPath\",\"/content/postgresql-42.2.9.jar\").getOrCreate()"
      ]
    },
    {
      "cell_type": "code",
      "execution_count": 5,
      "metadata": {
        "colab": {
          "base_uri": "https://localhost:8080/",
          "height": 0
        },
        "id": "ROROnEQUEpXX",
        "outputId": "fe8ad4d6-6e56-4f1a-db2b-4ff57ad47e92"
      },
      "outputs": [
        {
          "output_type": "stream",
          "name": "stdout",
          "text": [
            "+---+-------------------+----------+-----+--------------------+-----------------------+-----------------+--------------+----------+---------------+-------+---------+--------------+----------------+----------------+----------+------------+----------+----------+----------------+----------+-------------+-------------+-----+\n",
            "|_c0|          timestamp|   company|level|               title|totalyearlycompensation|yearsofexperience|yearsatcompany|basesalary|stockgrantvalue|  bonus|rowNumber|Masters_Degree|Bachelors_Degree|Doctorate_Degree|Highschool|Some_College|Race_Asian|Race_White|Race_Two_Or_More|Race_Black|Race_Hispanic|         city|state|\n",
            "+---+-------------------+----------+-----+--------------------+-----------------------+-----------------+--------------+----------+---------------+-------+---------+--------------+----------------+----------------+----------+------------+----------+----------+----------------+----------+-------------+-------------+-----+\n",
            "|  0|2017-06-07 11:33:00|    Oracle|   L3|     Product Manager|                 127000|              1.5|           1.5|    107000|        20000.0|10000.0|        1|             0|               0|               0|         0|           0|         0|         0|               0|         0|            0| Redwood City|   CA|\n",
            "|  1|2017-06-10 17:11:00|      eBay| SE 2|   Software Engineer|                 100000|              5.0|           3.0|         0|            0.0|    0.0|        2|             0|               0|               0|         0|           0|         0|         0|               0|         0|            0|San Francisco|   CA|\n",
            "|  2|2017-06-11 14:53:00|    Amazon|   L7|     Product Manager|                 310000|              8.0|           0.0|    155000|            0.0|    0.0|        3|             0|               0|               0|         0|           0|         0|         0|               0|         0|            0|      Seattle|   WA|\n",
            "|  3|2017-06-17 00:23:00|     Apple|   M1|Software Engineer...|                 372000|              7.0|           5.0|    157000|       180000.0|35000.0|        7|             0|               0|               0|         0|           0|         0|         0|               0|         0|            0|    Sunnyvale|   CA|\n",
            "|  4|2017-06-20 10:58:00| Microsoft|   60|   Software Engineer|                 157000|              5.0|           3.0|         0|            0.0|    0.0|        9|             0|               0|               0|         0|           0|         0|         0|               0|         0|            0|Mountain View|   CA|\n",
            "|  5|2017-06-21 17:27:00| Microsoft|   63|   Software Engineer|                 208000|              8.5|           8.5|         0|            0.0|    0.0|       11|             0|               0|               0|         0|           0|         0|         0|               0|         0|            0|      Seattle|   WA|\n",
            "|  6|2017-06-22 12:37:00| Microsoft|   65|Software Engineer...|                 300000|             15.0|          11.0|    180000|        65000.0|55000.0|       12|             0|               0|               0|         0|           0|         0|         0|               0|         0|            0|      Redmond|   WA|\n",
            "|  7|2017-06-22 13:55:00| Microsoft|   62|   Software Engineer|                 156000|              4.0|           4.0|    135000|         8000.0|13000.0|       13|             0|               0|               0|         0|           0|         0|         0|               0|         0|            0|      Seattle|   WA|\n",
            "|  8|2017-06-22 23:08:00| Microsoft|   59|   Software Engineer|                 120000|              3.0|           1.0|         0|            0.0|    0.0|       15|             0|               0|               0|         0|           0|         0|         0|               0|         0|            0|      Redmond|   WA|\n",
            "|  9|2017-06-26 21:25:00| Microsoft|   63|   Software Engineer|                 201000|             12.0|           6.0|    157000|        26000.0|28000.0|       16|             0|               0|               0|         0|           0|         0|         0|               0|         0|            0|      Seattle|   WA|\n",
            "| 10|2017-06-30 16:29:00|Salesforce|    9|Software Engineer...|                 450000|             16.0|           3.0|    230000|       100000.0|45000.0|       18|             0|               0|               0|         0|           0|         0|         0|               0|         0|            0|San Francisco|   CA|\n",
            "| 11|2017-07-02 14:16:00| Microsoft|Sde 2|   Software Engineer|                 155000|              5.0|           3.0|    126000|            0.0|    0.0|       19|             0|               0|               0|         0|           0|         0|         0|               0|         0|            0|     Bellevue|   WA|\n",
            "| 12|2017-07-03 19:28:00| Microsoft|   63|     Product Manager|                 150000|             10.0|          10.0|         0|            0.0|    0.0|       20|             0|               0|               0|         0|           0|         0|         0|               0|         0|            0|      Redmond|   WA|\n",
            "| 13|2017-07-07 22:29:00| Microsoft|   63|   Software Engineer|                 191000|              7.0|           7.0|    152000|        17000.0|22000.0|       21|             0|               0|               0|         0|           0|         0|         0|               0|         0|            0|      Seattle|   WA|\n",
            "| 14|2017-07-14 21:36:00|    Amazon|   L6|Software Engineer...|                 287000|             12.0|           1.0|    160000|            0.0|    0.0|       23|             0|               0|               0|         0|           0|         0|         0|               0|         0|            0|      Seattle|   WA|\n",
            "| 15|2017-07-16 16:50:00|    Amazon|   L5|   Software Engineer|                 218000|             10.0|           0.0|    150000|         7000.0|61000.0|       25|             0|               0|               0|         0|           0|         0|         0|               0|         0|            0|      Seattle|   WA|\n",
            "| 16|2017-07-20 22:35:00|  Facebook|   E3|   Software Engineer|                 168000|              1.0|           1.0|         0|            0.0|    0.0|       27|             0|               0|               0|         0|           0|         0|         0|               0|         0|            0|   Menlo Park|   CA|\n",
            "| 17|2017-07-22 22:20:00|      Uber|   5a|   Software Engineer|                 160000|              9.0|           1.0|         0|            0.0|    0.0|       29|             0|               0|               0|         0|           0|         0|         0|               0|         0|            0|San Francisco|   CA|\n",
            "| 19|2017-07-24 23:14:00| Microsoft|   64|   Software Engineer|                 195000|              9.0|           9.0|         0|            0.0|    0.0|       31|             0|               0|               0|         0|           0|         0|         0|               0|         0|            0|      Redmond|   WA|\n",
            "| 20|2017-07-25 14:44:00|      Oath|  IC4|   Software Engineer|                 155000|              8.0|           7.0|    125000|        30000.0|15000.0|       33|             0|               0|               0|         0|           0|         0|         0|               0|         0|            0|    Sunnyvale|   CA|\n",
            "+---+-------------------+----------+-----+--------------------+-----------------------+-----------------+--------------+----------+---------------+-------+---------+--------------+----------------+----------------+----------+------------+----------+----------+----------------+----------+-------------+-------------+-----+\n",
            "only showing top 20 rows\n",
            "\n"
          ]
        }
      ],
      "source": [
        "# Read in data from S3 Buckets\n",
        "from pyspark import SparkFiles\n",
        "url=\"https://group-project-data-bucket.s3.amazonaws.com/clean_salary_data.csv\"\n",
        "spark.sparkContext.addFile(url)\n",
        "salary_data_df = spark.read.csv(SparkFiles.get(\"clean_salary_data.csv\"), sep=\",\", header=True, inferSchema=True)\n",
        "\n",
        "# Show DataFrame\n",
        "salary_data_df.show()"
      ]
    },
    {
      "cell_type": "code",
      "source": [
        "# Configure settings for RDS\n",
        "mode = \"append\"\n",
        "jdbc_url=\"jdbc:postgresql://mypostgressdb.cuwtf0lwxiav.us-east-1.rds.amazonaws.com:5432/my_data_class_db\"\n",
        "config = {\"user\":\"root\", \n",
        "          \"password\": \"pasgroup3\", \n",
        "          \"driver\":\"org.postgresql.Driver\"}"
      ],
      "metadata": {
        "id": "YwGIKZrLHMAN"
      },
      "execution_count": 6,
      "outputs": []
    },
    {
      "cell_type": "code",
      "source": [
        "# Write DataFrame to salary_data table in RDS\n",
        "\n",
        "salary_data_df.write.jdbc(url=jdbc_url, table='salary_data',mode=mode,properties=config)"
      ],
      "metadata": {
        "id": "VdiWixf1HO2p"
      },
      "execution_count": 9,
      "outputs": []
    }
  ],
  "metadata": {
    "kernelspec": {
      "display_name": "Python 3",
      "language": "python",
      "name": "python3"
    },
    "language_info": {
      "codemirror_mode": {
        "name": "ipython",
        "version": 3
      },
      "file_extension": ".py",
      "mimetype": "text/x-python",
      "name": "python",
      "nbconvert_exporter": "python",
      "pygments_lexer": "ipython3",
      "version": "3.7.7"
    },
    "latex_envs": {
      "LaTeX_envs_menu_present": true,
      "autoclose": false,
      "autocomplete": true,
      "bibliofile": "biblio.bib",
      "cite_by": "apalike",
      "current_citInitial": 1,
      "eqLabelWithNumbers": true,
      "eqNumInitial": 1,
      "hotkeys": {
        "equation": "Ctrl-E",
        "itemize": "Ctrl-I"
      },
      "labels_anchors": false,
      "latex_user_defs": false,
      "report_style_numbering": false,
      "user_envs_cfg": false
    },
    "colab": {
      "provenance": []
    }
  },
  "nbformat": 4,
  "nbformat_minor": 0
}